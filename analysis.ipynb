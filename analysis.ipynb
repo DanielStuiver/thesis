{
 "cells": [
  {
   "cell_type": "markdown",
   "id": "366a6ccc",
   "metadata": {
    "heading_collapsed": true
   },
   "source": [
    "## Imports and paths\n",
    "Imports all required libraries and sets file paths for the manual annotations and each model’s JSON outputs."
   ]
  },
  {
   "cell_type": "code",
   "execution_count": null,
   "id": "2ca95053",
   "metadata": {
    "hidden": true
   },
   "outputs": [
    {
     "name": "stderr",
     "output_type": "stream",
     "text": [
      "/Users/daniel/opt/anaconda3/lib/python3.8/site-packages/pandas/core/computation/expressions.py:20: UserWarning: Pandas requires version '2.7.3' or newer of 'numexpr' (version '2.7.1' currently installed).\n",
      "  from pandas.core.computation.check import NUMEXPR_INSTALLED\n"
     ]
    }
   ],
   "source": [
    "# imports\n",
    "import os\n",
    "import json\n",
    "import numpy as np\n",
    "import pandas as pd\n",
    "import matplotlib.pyplot as plt\n",
    "from datetime import datetime\n",
    "from collections import Counter\n",
    "from sklearn.metrics import precision_recall_fscore_support\n",
    "\n",
    "# paths\n",
    "input_file = '/Users/daniel/Desktop/Scriptie/Home_and_Kitchen.jsonl'\n",
    "output_file = 'data/long_reviews_sample.jsonl'\n",
    "\n",
    "manual_path = 'data/reviews_annotated.json'\n",
    "zero_shot_path = 'data/o4-mini_zeroshot.json'\n",
    "one_shot_path = 'data/o4-mini_oneshot.json'\n",
    "\n",
    "GPT_o3_path = 'data/GPT-o3.json'\n",
    "GPT_4o_path = 'data/GPT-4o.json'\n",
    "GPT_o4_mini_path = 'data/GPT-o4-mini.json'\n",
    "gemini_path = 'data/gemini-2.5pro.json'\n",
    "claude_path = 'data/claude-sonnet4.json'"
   ]
  },
  {
   "cell_type": "markdown",
   "id": "a0b029fc",
   "metadata": {
    "heading_collapsed": true
   },
   "source": [
    "## Extract reviews\n",
    "Reads the raw JSONL of Home & Kitchen reviews, filters for a specific ASIN and review year, computes each review’s text length, sorts by length, and writes out the top 100 longest reviews to a new JSON file. The original file has been deleted after successfully running once, so this cell no longer works."
   ]
  },
  {
   "cell_type": "code",
   "execution_count": null,
   "id": "67360cd1",
   "metadata": {
    "hidden": true
   },
   "outputs": [],
   "source": [
    "target_asin = 'B01M16WBW1' # most reviewed product from Home_and_Kitchen category\n",
    "target_year = 2022\n",
    "\n",
    "collected_reviews = []\n",
    "\n",
    "with open(input_file, 'r', encoding='utf-8') as fp:\n",
    "    for line in fp:\n",
    "        processed_size += len(line)\n",
    "        review = json.loads(line.strip())\n",
    "\n",
    "        # filter on asin\n",
    "        if review.get('asin') != target_asin:\n",
    "            continue\n",
    "\n",
    "        # filter on year\n",
    "        timestamp_ms = review.get('timestamp')\n",
    "        if timestamp_ms:\n",
    "            review_datetime = datetime.utcfromtimestamp(timestamp_ms / 1000)\n",
    "            if review_datetime.year != target_year:\n",
    "                continue\n",
    "\n",
    "        # check text length\n",
    "        text = review.get('text')\n",
    "        if not text:\n",
    "            continue\n",
    "\n",
    "        # save rating, title, text, and length of text\n",
    "        collected_reviews.append({\n",
    "            'rating': review.get('rating'),\n",
    "            'title': review.get('title'),\n",
    "            'text': text,\n",
    "            'text_length': len(text),\n",
    "            'date': review_datetime.strftime('%Y-%m-%d') if timestamp_ms else None\n",
    "        })\n",
    "\n",
    "# sort by text length (longest first)\n",
    "collected_reviews.sort(key=lambda x: x['text_length'], reverse=True)\n",
    "\n",
    "# select the top 100 longest reviews\n",
    "top_reviews = collected_reviews[:100]\n",
    "\n",
    "# write to output file\n",
    "with open(output_file, 'w', encoding='utf-8') as out_fp:\n",
    "    for review in top_reviews:\n",
    "        review.pop('text_length')  # remove helper field\n",
    "        out_fp.write(json.dumps(review) + '\\n')\n",
    "\n",
    "print(f\"\\nFinished! Saved {len(top_reviews)} reviews to {output_file}\")"
   ]
  },
  {
   "cell_type": "markdown",
   "id": "0872327e",
   "metadata": {},
   "source": [
    "## Preview data\n",
    "Loads the sampled long reviews, extracts each rating into a list, plots a histogram of rating distribution, then loads the manual annotations and plots the frequency of each annotation code.\n"
   ]
  },
  {
   "cell_type": "code",
   "execution_count": null,
   "id": "de1714c2",
   "metadata": {},
   "outputs": [
    {
     "data": {
      "image/png": "[encoded data removed]",
      "text/plain": [
       "<Figure size 576x360 with 1 Axes>"
      ]
     },
     "metadata": {
      "needs_background": "light"
     },
     "output_type": "display_data"
    }
   ],
   "source": [
    "ratings = []\n",
    "file = output_file\n",
    "with open(file, 'r') as fp:\n",
    "    for i, line in enumerate(fp):\n",
    "        review = json.loads(line.strip())\n",
    "        rating = review.get('rating')\n",
    "        if rating is not None:\n",
    "            ratings.append(rating)\n",
    "\n",
    "plt.figure(figsize=(8, 5))\n",
    "plt.hist(ratings, bins=[0.5, 1.5, 2.5, 3.5, 4.5, 5.5], edgecolor='black', align='mid')\n",
    "plt.xticks([1, 2, 3, 4, 5])\n",
    "plt.xlabel('Rating')\n",
    "plt.ylabel('Number of Reviews')\n",
    "plt.title('Distribution of Ratings')\n",
    "plt.grid(axis='y', linestyle='--', alpha=0.7)\n",
    "plt.tight_layout()\n",
    "plt.show()"
   ]
  },
  {
   "cell_type": "markdown",
   "id": "ccd7e0f9",
   "metadata": {
    "heading_collapsed": true
   },
   "source": [
    "## Prepare for manual annotation\n",
    "Opens the pre-selected JSON again and, for each review, builds a simplified dictionary containing an incremental ID, rating, title, and text (with an empty “Annotation” field) and prints it, preparing the rows for manual entry."
   ]
  },
  {
   "cell_type": "code",
   "execution_count": null,
   "id": "5ec464f7",
   "metadata": {
    "hidden": true
   },
   "outputs": [],
   "source": [
    "file = 'data/long_reviews_sample.jsonl'\n",
    "\n",
    "with open(file, 'r') as fp:\n",
    "    for i, line in enumerate(fp):\n",
    "        review = json.loads(line.strip())\n",
    "        simplified = {\n",
    "            'ID': i + 1,  # incrementing ID starting from 1\n",
    "            'Rating': review.get('rating'),\n",
    "            'Title': review.get('title'),\n",
    "            'Text': review.get('text'),\n",
    "            'Annotation': {},\n",
    "        }\n",
    "        print(json.dumps(simplified, indent=2))"
   ]
  },
  {
   "cell_type": "markdown",
   "id": "98cf7a01",
   "metadata": {
    "heading_collapsed": true
   },
   "source": [
    "## Plot code distribution\n",
    "Defines two helper functions: load_json_array (to read a JSON array from disk) and count_annotation_codes (to sum up the T1–T7 tags), then loads the completed annotations file, counts each code, and displays the results as a bar chart."
   ]
  },
  {
   "cell_type": "code",
   "execution_count": 5,
   "id": "722c5e4d",
   "metadata": {
    "hidden": true
   },
   "outputs": [
    {
     "data": {
      "image/png": "[encoded data removed]",
      "text/plain": [
       "<Figure size 432x288 with 1 Axes>"
      ]
     },
     "metadata": {
      "needs_background": "light"
     },
     "output_type": "display_data"
    }
   ],
   "source": [
    "def load_json_array(file_path):\n",
    "    \"\"\"\n",
    "    Load JSON data from file (valid JSON array).\n",
    "    \"\"\"\n",
    "    with open(file_path, 'r', encoding='utf-8') as f:\n",
    "        return json.load(f)\n",
    "\n",
    "def count_annotation_codes(data):\n",
    "    \"\"\"\n",
    "    Count annotation codes T1-T7 (supporting multiple of the same tag).\n",
    "    \"\"\"\n",
    "    code_counter = Counter()\n",
    "    valid_tags = {f\"T{i}\" for i in range(1, 8)}\n",
    "\n",
    "    for entry in data:\n",
    "        annotations = entry.get(\"Annotation\", [])\n",
    "        for ann in annotations:\n",
    "            for tag in ann:\n",
    "                if tag in valid_tags:\n",
    "                    code_counter[tag] += 1\n",
    "    return code_counter\n",
    "\n",
    "def plot_counts(counts):\n",
    "    \"\"\"\n",
    "    Plot annotation code counts.\n",
    "    \"\"\"\n",
    "    all_tags = [f\"T{i}\" for i in range(1, 8)]\n",
    "    values = [counts.get(tag, 0) for tag in all_tags]\n",
    "\n",
    "    plt.bar(all_tags, values, color='skyblue')\n",
    "    plt.title(\"Annotation Code Counts\")\n",
    "    plt.xlabel(\"Annotation Code\")\n",
    "    plt.ylabel(\"Count\")\n",
    "    plt.grid(axis='y', linestyle='--', alpha=0.6)\n",
    "    plt.tight_layout()\n",
    "    plt.show()\n",
    "\n",
    "file_path = \"/Users/daniel/Desktop/Scriptie/data/reviews_annotated.json\" \n",
    "data = load_json_array(file_path)\n",
    "\n",
    "counts = count_annotation_codes(data)\n",
    "plot_counts(counts)"
   ]
  },
  {
   "cell_type": "markdown",
   "id": "6fb4da58",
   "metadata": {
    "heading_collapsed": true
   },
   "source": [
    "## One-shot vs. Zero-shot\n",
    "Checks that the manual annotations file exists (raising an error if not) and then loads the manual data plus the model’s predictions using the two techniques (zero-shot, one-shot) into memory. A DataFrame is constructed showing the metrics per technique, and per code."
   ]
  },
  {
   "cell_type": "code",
   "execution_count": 65,
   "id": "ece798b4",
   "metadata": {
    "hidden": true
   },
   "outputs": [
    {
     "name": "stdout",
     "output_type": "stream",
     "text": [
      "=== Overall Metrics for One-shot vs Zero-shot ===\n",
      "   Method  TP  FP  FN  Macro_F1  Micro_Precision  Micro_Recall  Micro_F1\n",
      " One-shot  12 114  36     0.115            0.095         0.250     0.138\n",
      "Zero-shot  10  79  38     0.204            0.112         0.208     0.146\n",
      "\n",
      "=== Per-code Metrics (One-shot) ===\n",
      "Code  TP  FP  FN  Precision  Recall    F1\n",
      "  T1   4  51   1      0.073   0.800 0.133\n",
      "  T2   2  19   5      0.095   0.286 0.143\n",
      "  T3   2  13   4      0.133   0.333 0.190\n",
      "  T4   0   1   9      0.000   0.000 0.000\n",
      "  T5   0   0   6      0.000   0.000 0.000\n",
      "  T6   1  21   3      0.045   0.250 0.077\n",
      "  T7   3   9   8      0.250   0.273 0.261\n",
      "\n",
      "=== Per-code Metrics (Zero-shot) ===\n",
      "Code  TP  FP  FN  Precision  Recall    F1\n",
      "  T1   2   0   3      1.000   0.400 0.571\n",
      "  T2   4   8   3      0.333   0.571 0.421\n",
      "  T3   1   6   5      0.143   0.167 0.154\n",
      "  T4   0   3   9      0.000   0.000 0.000\n",
      "  T5   1   2   5      0.333   0.167 0.222\n",
      "  T6   0  10   4      0.000   0.000 0.000\n",
      "  T7   2  50   9      0.038   0.182 0.063\n"
     ]
    }
   ],
   "source": [
    "# check if manual annotation file exists\n",
    "if not os.path.exists(manual_path):\n",
    "    raise FileNotFoundError(\n",
    "        f\"Manual annotation file not found at: {manual_path}. \"\n",
    "        f\"Please upload it or update 'manual_path' to the correct location.\"\n",
    "    )\n",
    "\n",
    "# load all JSON files\n",
    "with open(manual_path, 'r') as f:\n",
    "    manual_data = json.load(f)\n",
    "\n",
    "with open(one_shot_path, 'r') as f:\n",
    "    oneshot_data = json.load(f)\n",
    "\n",
    "with open(zero_shot_path, 'r') as f:\n",
    "    zeroshot_data = json.load(f)\n",
    "\n",
    "def flatten_annotations(json_list):\n",
    "    \"\"\"\n",
    "    Helper to convert JSON entries into a DataFrame of (ID, Code, Sentence) rows.\n",
    "    \"\"\"\n",
    "    rows = []\n",
    "    for entry in json_list:\n",
    "        review_id = entry['ID']\n",
    "        for annotation in entry['Annotation']:\n",
    "            code = list(annotation.keys())[0]\n",
    "            sent = annotation[code].strip()\n",
    "            rows.append((review_id, code, sent))\n",
    "    return pd.DataFrame(rows, columns=['ID', 'Code', 'Sentence'])\n",
    "\n",
    "# build DataFrames\n",
    "manual_df = flatten_annotations(manual_data)\n",
    "oneshot_df = flatten_annotations(oneshot_data)\n",
    "zeroshot_df = flatten_annotations(zeroshot_data)\n",
    "\n",
    "def compute_metrics(pred_df, manual_df, method_name):\n",
    "    \"\"\"\n",
    "    Compute TP, FP, FN and precision/recall/F1 per code, as well as macro and micro metrics.\n",
    "    \"\"\"\n",
    "    # merge on ID, Code, Sentence to tag true positives\n",
    "    merged = pd.merge(\n",
    "        pred_df.assign(IsPred=True),\n",
    "        manual_df.assign(IsManual=True),\n",
    "        on=['ID','Code','Sentence'],\n",
    "        how='outer'\n",
    "    ).fillna({'IsPred': False, 'IsManual': False})\n",
    "\n",
    "    # overall TP, FP, FN\n",
    "    tp = merged[(merged['IsPred']) & (merged['IsManual'])].shape[0]\n",
    "    fp = merged[(merged['IsPred']) & (~merged['IsManual'])].shape[0]\n",
    "    fn = merged[(~merged['IsPred']) & (merged['IsManual'])].shape[0]\n",
    "    \n",
    "    # per-code metrics\n",
    "    codes = sorted(manual_df['Code'].unique())\n",
    "    rows = []\n",
    "    for c in codes:\n",
    "        tp_c = merged[(merged['Code'] == c) & (merged['IsPred']) & (merged['IsManual'])].shape[0]\n",
    "        fp_c = merged[(merged['Code'] == c) & (merged['IsPred']) & (~merged['IsManual'])].shape[0]\n",
    "        fn_c = merged[(merged['Code'] == c) & (~merged['IsPred']) & (merged['IsManual'])].shape[0]\n",
    "        \n",
    "        prec_c = tp_c / (tp_c + fp_c) if (tp_c + fp_c) > 0 else 0.0\n",
    "        rec_c = tp_c / (tp_c + fn_c) if (tp_c + fn_c) > 0 else 0.0\n",
    "        f1_c = (2 * prec_c * rec_c / (prec_c + rec_c)) if (prec_c + rec_c) > 0 else 0.0\n",
    "        \n",
    "        rows.append({\n",
    "            'Code': c,\n",
    "            'TP': tp_c,\n",
    "            'FP': fp_c,\n",
    "            'FN': fn_c,\n",
    "            'Precision': round(prec_c, 3),\n",
    "            'Recall': round(rec_c, 3),\n",
    "            'F1': round(f1_c, 3),\n",
    "        })\n",
    "    \n",
    "    per_code_df = pd.DataFrame(rows)\n",
    "    macro_f1 = per_code_df['F1'].mean()\n",
    "\n",
    "    # micro-average treating each row as one instance\n",
    "    micro_precision, micro_recall, micro_f1, _ = precision_recall_fscore_support(\n",
    "        merged['IsManual'], merged['IsPred'], average='binary'\n",
    "    )\n",
    "    \n",
    "    summary = {\n",
    "        'Method': method_name,\n",
    "        'TP': tp,\n",
    "        'FP': fp,\n",
    "        'FN': fn,\n",
    "        'Macro_F1': round(macro_f1, 3),\n",
    "        'Micro_Precision': round(micro_precision, 3),\n",
    "        'Micro_Recall': round(micro_recall, 3),\n",
    "        'Micro_F1': round(micro_f1, 3)\n",
    "    }\n",
    "    \n",
    "    return summary, per_code_df\n",
    "\n",
    "# compute metrics for one-shot and zero-shot\n",
    "one_summary, one_per_code = compute_metrics(oneshot_df, manual_df, 'One-shot')\n",
    "zero_summary, zero_per_code = compute_metrics(zeroshot_df, manual_df, 'Zero-shot')\n",
    "\n",
    "# combine summaries into a DataFrame\n",
    "summary_df = pd.DataFrame([one_summary, zero_summary])\n",
    "\n",
    "# print results\n",
    "print(\"=== Overall Metrics for One-shot vs Zero-shot ===\")\n",
    "print(summary_df.to_string(index=False))\n",
    "\n",
    "print(\"\\n=== Per-code Metrics (One-shot) ===\")\n",
    "print(one_per_code.to_string(index=False))\n",
    "\n",
    "print(\"\\n=== Per-code Metrics (Zero-shot) ===\")\n",
    "print(zero_per_code.to_string(index=False))"
   ]
  },
  {
   "cell_type": "markdown",
   "id": "2b95d8ca",
   "metadata": {
    "heading_collapsed": true
   },
   "source": [
    "## Compute performance metrics\n",
    "Uses extract_triples to build manual and predicted triple sets for the model given in pred_data. Computes detection by precision, recall and F1. Computes classification by accuracy. A confusion matrix is created to visualize the classification errors. This is later visualized per model."
   ]
  },
  {
   "cell_type": "code",
   "execution_count": 7,
   "id": "8a3920af",
   "metadata": {
    "hidden": true
   },
   "outputs": [
    {
     "name": "stdout",
     "output_type": "stream",
     "text": [
      "Model: Claude\n",
      "Detection: P=0.30, R=0.58, F1=0.40\n",
      "Classification accuracy (on matched spans): 0.36 \n",
      "\n",
      "=== Confusion matrix (manual→pred) === \n",
      "    T1  T2  T3  T4  T5  T7\n",
      "T1   2   2   0   0   0   0\n",
      "T2   0   2   1   0   1   0\n",
      "T3   0   0   5   0   0   0\n",
      "T4   0   2   0   1   0   0\n",
      "T5   0   3   0   0   0   1\n",
      "T7   1   5   2   0   0   0\n"
     ]
    }
   ],
   "source": [
    "# load manual and predicted data, ensure to select correct model path\n",
    "manual_data = json.load(open(manual_path))\n",
    "pred_data = json.load(open(claude_path))\n",
    "\n",
    "def extract_triples(data):\n",
    "    \"\"\"\n",
    "    Given a list of {\"ID\":…, \"Annotation\":[{code: sentence, …}, …]}, \n",
    "    return a set of (ID, sentence, code) triples.\n",
    "    \"\"\"\n",
    "    triples = set()\n",
    "    for entry in data:\n",
    "        review_id = entry[\"ID\"]\n",
    "        for ann in entry[\"Annotation\"]:\n",
    "            for code, sentence in ann.items():\n",
    "                # normalize sentence (strip, collapse spaces)\n",
    "                triples.add((review_id, sentence.strip(), code))\n",
    "    return triples\n",
    "\n",
    "# manual vs. predicted sets\n",
    "M = extract_triples(manual_data)\n",
    "P = extract_triples(pred_data)\n",
    "\n",
    "# True/False Positives & Negatives on (ID, sentence, code)\n",
    "TP = M & P\n",
    "FP = P - M\n",
    "FN = M - P\n",
    "\n",
    "# detection (span‐only) sets: ignore code\n",
    "M_spans = {(i, s) for (i, s, _) in M}\n",
    "P_spans = {(i, s) for (i, s, _) in P}\n",
    "TP_spans = M_spans & P_spans\n",
    "FP_spans = P_spans - M_spans\n",
    "FN_spans = M_spans - P_spans\n",
    "\n",
    "# detection metrics\n",
    "prec_det = len(TP_spans) / (len(TP_spans) + len(FP_spans)) if TP_spans or FP_spans else 0\n",
    "rec_det  = len(TP_spans) / (len(TP_spans) + len(FN_spans)) if TP_spans or FN_spans else 0\n",
    "f1_det   = (2 * prec_det * rec_det / (prec_det + rec_det)) if (prec_det + rec_det) else 0\n",
    "\n",
    "# classification on matched sentences\n",
    "# build maps from (ID, sentence) to code\n",
    "manual_map = {}\n",
    "pred_map = {}\n",
    "for (i, s, c) in M:\n",
    "    manual_map.setdefault((i, s), []).append(c)\n",
    "for (i, s, c) in P:\n",
    "    pred_map.setdefault((i, s), []).append(c)\n",
    "\n",
    "# for each correctly detected span, compare all manual vs. pred codes\n",
    "correct_labels = 0\n",
    "total_matched = 0\n",
    "confusion = Counter()\n",
    "for span in TP_spans:\n",
    "    manual_codes = manual_map.get(span, [])\n",
    "    pred_codes = pred_map.get(span, [])\n",
    "    # data often has exactly one code predicted per span,\n",
    "    # loop over all combinations to be safe.\n",
    "    for m in manual_codes:\n",
    "        for p in pred_codes:\n",
    "            total_matched += 1\n",
    "            if m == p:\n",
    "                correct_labels += 1\n",
    "            confusion[(m, p)] += 1\n",
    "\n",
    "acc_class = correct_labels / total_matched if total_matched else 0\n",
    "\n",
    "# build dataframe\n",
    "labels = sorted({m for (m, p) in confusion.keys()} | {p for (m, p) in confusion.keys()})\n",
    "cm = pd.DataFrame(0, index=labels, columns=labels)\n",
    "for (m, p), cnt in confusion.items():\n",
    "    cm.at[m, p] = cnt\n",
    "\n",
    "# print results\n",
    "print(\"Model: Claude\")\n",
    "print(f\"Detection: P={prec_det:.2f}, R={rec_det:.2f}, F1={f1_det:.2f}\")\n",
    "print(f\"Classification accuracy (on matched spans): {acc_class:.2f} \\n\")\n",
    "print(\"=== Confusion matrix (manual→pred) === \")\n",
    "print(cm)"
   ]
  },
  {
   "cell_type": "markdown",
   "id": "8c0de0ab",
   "metadata": {
    "heading_collapsed": true
   },
   "source": [
    "## Create matrices\n",
    "Uses a new helper function (compute_cm) to create the matrices for each model, to construct a dictionary with the model name as key, and cm as value."
   ]
  },
  {
   "cell_type": "code",
   "execution_count": 8,
   "id": "55281203",
   "metadata": {
    "hidden": true
   },
   "outputs": [],
   "source": [
    "# full set of labels\n",
    "ALL_LABELS = [\"T1\", \"T2\", \"T3\", \"T4\", \"T5\", \"T6\", \"T7\"]\n",
    "\n",
    "def compute_cm(pred_path, manual_spans, manual_map):\n",
    "    P = extract_triples(json.load(open(pred_path)))\n",
    "    P_spans = {(i, s) for (i, s, _) in P}\n",
    "    TP_spans = manual_spans & P_spans\n",
    "\n",
    "    # build pred_map\n",
    "    pred_map = {}\n",
    "    for (i, s, c) in P:\n",
    "        pred_map.setdefault((i, s), []).append(c)\n",
    "\n",
    "    # confusion counts\n",
    "    confusion = Counter()\n",
    "    for span in TP_spans:\n",
    "        for m in manual_map.get(span, []):\n",
    "            for p in pred_map.get(span, []):\n",
    "                confusion[(m, p)] += 1\n",
    "\n",
    "    # turn into a DataFrame\n",
    "    labels = sorted({m for (m, p) in confusion} | {p for (m, p) in confusion})\n",
    "    cm = pd.DataFrame(0, index=labels, columns=labels)\n",
    "    for (m, p), cnt in confusion.items():\n",
    "        cm.at[m, p] = cnt\n",
    "\n",
    "    # ensure all T1–T7 appear, filling missing with 0\n",
    "    cm = cm.reindex(index=ALL_LABELS, columns=ALL_LABELS, fill_value=0)\n",
    "    return cm\n",
    "\n",
    "# precompute manual spans & label‐map\n",
    "manual_data = json.load(open(manual_path))\n",
    "M = extract_triples(manual_data)\n",
    "M_spans  = {(i, s) for (i, s, _) in M}\n",
    "manual_map = {}\n",
    "for (i, s, c) in M:\n",
    "    manual_map.setdefault((i, s), []).append(c)\n",
    "\n",
    "# compute one cm per model\n",
    "models = {\n",
    "    'GPT-o3'       : GPT_o3_path,\n",
    "    'GPT-4o'       : GPT_4o_path,\n",
    "    'GPT-o4-mini'  : GPT_o4_mini_path,\n",
    "    'Gemini-2.5pro': gemini_path,\n",
    "    'Claude-sonnet4': claude_path\n",
    "}\n",
    "cms = {name: compute_cm(path, M_spans, manual_map) for name, path in models.items()}\n"
   ]
  },
  {
   "cell_type": "markdown",
   "id": "0931aca7",
   "metadata": {
    "heading_collapsed": true
   },
   "source": [
    "## Visualize classification errors\n",
    "Uses the cms to generate heatmaps of the different models’ classification errors."
   ]
  },
  {
   "cell_type": "code",
   "execution_count": 63,
   "id": "dbafe147",
   "metadata": {
    "hidden": true
   },
   "outputs": [
    {
     "data": {
      "image/png": "[encoded data removed]",
      "text/plain": [
       "<Figure size 1080x576 with 11 Axes>"
      ]
     },
     "metadata": {
      "needs_background": "light"
     },
     "output_type": "display_data"
    }
   ],
   "source": [
    "max_val = max(df.values.max() for df in cms.values())\n",
    "\n",
    "model_names = list(cms.keys())\n",
    "\n",
    "fig, axes = plt.subplots(n_rows, n_cols, figsize=(15,8))\n",
    "\n",
    "for ax, model_name in zip(axes.flat, model_names):\n",
    "    cm_df = cms[model_name]\n",
    "    im = ax.imshow(cm_df.values, aspect='equal', origin='lower', vmin=0, vmax=max_val)\n",
    "    ax.set_xticks(range(len(cm_df.columns)))\n",
    "    ax.set_xticklabels(cm_df.columns)\n",
    "    ax.set_yticks(range(len(cm_df.index)))\n",
    "    ax.set_yticklabels(cm_df.index)\n",
    "    ax.set_title(model_name)\n",
    "    ax.set_xlabel('Predicted')\n",
    "    ax.set_ylabel('Manual')\n",
    "    fig.colorbar(im, ax=ax)\n",
    "\n",
    "# Turn off any unused subplots\n",
    "for ax in axes.flat[n_models:]:\n",
    "    ax.axis('off')\n",
    "\n",
    "plt.tight_layout()\n",
    "plt.show()\n"
   ]
  }
 ],
 "metadata": {
  "hide_input": false,
  "kernelspec": {
   "display_name": "base",
   "language": "python",
   "name": "python3"
  },
  "language_info": {
   "codemirror_mode": {
    "name": "ipython",
    "version": 3
   },
   "file_extension": ".py",
   "mimetype": "text/x-python",
   "name": "python",
   "nbconvert_exporter": "python",
   "pygments_lexer": "ipython3",
   "version": "3.8.5"
  }
 },
 "nbformat": 4,
 "nbformat_minor": 5
}
